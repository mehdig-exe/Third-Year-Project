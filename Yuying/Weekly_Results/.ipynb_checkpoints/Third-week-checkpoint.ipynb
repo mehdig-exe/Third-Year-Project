{
 "cells": [
  {
   "cell_type": "markdown",
   "metadata": {},
   "source": [
    "# Third-week Results"
   ]
  },
  {
   "cell_type": "code",
   "execution_count": null,
   "metadata": {},
   "outputs": [],
   "source": []
  },
  {
   "cell_type": "code",
   "execution_count": 2,
   "metadata": {},
   "outputs": [],
   "source": [
    "import pandas as pd\n",
    "import matplotlib.pyplot as plt\n",
    "import numpy as np\n",
    "import seaborn as sns\n",
    "from mpl_toolkits import mplot3d\n",
    "from matplotlib.animation import FuncAnimation\n",
    "from pandas.core.frame import DataFrame"
   ]
  },
  {
   "cell_type": "code",
   "execution_count": null,
   "metadata": {},
   "outputs": [],
   "source": []
  },
  {
   "cell_type": "code",
   "execution_count": 6,
   "metadata": {},
   "outputs": [],
   "source": [
    "data = pd.read_csv('Data.csv', sep = \",\")\n",
    "\n",
    "data_index = data.set_index(['UID','No']).sort_index()"
   ]
  },
  {
   "cell_type": "markdown",
   "metadata": {},
   "source": [
    "# Plot angle changed for each sensor"
   ]
  },
  {
   "cell_type": "code",
   "execution_count": 7,
   "metadata": {},
   "outputs": [],
   "source": [
    "df = pd.read_csv('data.csv',delimiter=',')\n",
    "index = df.index\n",
    "columns = df.columns\n",
    "values = df.values"
   ]
  },
  {
   "cell_type": "code",
   "execution_count": 8,
   "metadata": {},
   "outputs": [
    {
     "data": {
      "text/html": [
       "<div>\n",
       "<style scoped>\n",
       "    .dataframe tbody tr th:only-of-type {\n",
       "        vertical-align: middle;\n",
       "    }\n",
       "\n",
       "    .dataframe tbody tr th {\n",
       "        vertical-align: top;\n",
       "    }\n",
       "\n",
       "    .dataframe thead th {\n",
       "        text-align: right;\n",
       "    }\n",
       "</style>\n",
       "<table border=\"1\" class=\"dataframe\">\n",
       "  <thead>\n",
       "    <tr style=\"text-align: right;\">\n",
       "      <th></th>\n",
       "      <th>No</th>\n",
       "      <th>UID</th>\n",
       "      <th>VBAT</th>\n",
       "      <th>DID</th>\n",
       "      <th>YEAR</th>\n",
       "      <th>MON</th>\n",
       "      <th>DAY</th>\n",
       "      <th>HOUR</th>\n",
       "      <th>MIN</th>\n",
       "      <th>SEC</th>\n",
       "      <th>X</th>\n",
       "      <th>Y</th>\n",
       "      <th>Z</th>\n",
       "      <th>T</th>\n",
       "    </tr>\n",
       "  </thead>\n",
       "  <tbody>\n",
       "    <tr>\n",
       "      <th>2142</th>\n",
       "      <td>2142</td>\n",
       "      <td>1000101021</td>\n",
       "      <td>3539</td>\n",
       "      <td>221</td>\n",
       "      <td>19</td>\n",
       "      <td>9</td>\n",
       "      <td>30</td>\n",
       "      <td>16</td>\n",
       "      <td>51</td>\n",
       "      <td>231</td>\n",
       "      <td>-0.099591</td>\n",
       "      <td>-1.819556</td>\n",
       "      <td>88.174843</td>\n",
       "      <td>18.000000</td>\n",
       "    </tr>\n",
       "    <tr>\n",
       "      <th>2143</th>\n",
       "      <td>2143</td>\n",
       "      <td>1000101020</td>\n",
       "      <td>3554</td>\n",
       "      <td>222</td>\n",
       "      <td>19</td>\n",
       "      <td>9</td>\n",
       "      <td>30</td>\n",
       "      <td>16</td>\n",
       "      <td>53</td>\n",
       "      <td>233</td>\n",
       "      <td>-0.469940</td>\n",
       "      <td>28.106827</td>\n",
       "      <td>61.893124</td>\n",
       "      <td>18.200001</td>\n",
       "    </tr>\n",
       "    <tr>\n",
       "      <th>2144</th>\n",
       "      <td>2144</td>\n",
       "      <td>1000101021</td>\n",
       "      <td>3539</td>\n",
       "      <td>222</td>\n",
       "      <td>19</td>\n",
       "      <td>9</td>\n",
       "      <td>30</td>\n",
       "      <td>16</td>\n",
       "      <td>52</td>\n",
       "      <td>232</td>\n",
       "      <td>-0.108160</td>\n",
       "      <td>-1.846197</td>\n",
       "      <td>88.140244</td>\n",
       "      <td>18.000000</td>\n",
       "    </tr>\n",
       "    <tr>\n",
       "      <th>2145</th>\n",
       "      <td>2145</td>\n",
       "      <td>1000101021</td>\n",
       "      <td>3541</td>\n",
       "      <td>223</td>\n",
       "      <td>19</td>\n",
       "      <td>9</td>\n",
       "      <td>30</td>\n",
       "      <td>16</td>\n",
       "      <td>53</td>\n",
       "      <td>233</td>\n",
       "      <td>1.099182</td>\n",
       "      <td>-0.935596</td>\n",
       "      <td>88.531769</td>\n",
       "      <td>18.000000</td>\n",
       "    </tr>\n",
       "    <tr>\n",
       "      <th>2146</th>\n",
       "      <td>2146</td>\n",
       "      <td>1000101021</td>\n",
       "      <td>3541</td>\n",
       "      <td>224</td>\n",
       "      <td>19</td>\n",
       "      <td>9</td>\n",
       "      <td>30</td>\n",
       "      <td>16</td>\n",
       "      <td>54</td>\n",
       "      <td>234</td>\n",
       "      <td>1.122748</td>\n",
       "      <td>-0.954712</td>\n",
       "      <td>88.527657</td>\n",
       "      <td>18.000000</td>\n",
       "    </tr>\n",
       "  </tbody>\n",
       "</table>\n",
       "</div>"
      ],
      "text/plain": [
       "        No         UID  VBAT  DID  YEAR  MON  DAY  HOUR  MIN  SEC         X  \\\n",
       "2142  2142  1000101021  3539  221    19    9   30    16   51  231 -0.099591   \n",
       "2143  2143  1000101020  3554  222    19    9   30    16   53  233 -0.469940   \n",
       "2144  2144  1000101021  3539  222    19    9   30    16   52  232 -0.108160   \n",
       "2145  2145  1000101021  3541  223    19    9   30    16   53  233  1.099182   \n",
       "2146  2146  1000101021  3541  224    19    9   30    16   54  234  1.122748   \n",
       "\n",
       "              Y          Z          T  \n",
       "2142  -1.819556  88.174843  18.000000  \n",
       "2143  28.106827  61.893124  18.200001  \n",
       "2144  -1.846197  88.140244  18.000000  \n",
       "2145  -0.935596  88.531769  18.000000  \n",
       "2146  -0.954712  88.527657  18.000000  "
      ]
     },
     "execution_count": 8,
     "metadata": {},
     "output_type": "execute_result"
    }
   ],
   "source": [
    "df2 = df\n",
    "df['SEC'] = (60*df2['HOUR'] + df2['MIN']) - 780\n",
    "df2.tail()"
   ]
  },
  {
   "cell_type": "code",
   "execution_count": 9,
   "metadata": {},
   "outputs": [
    {
     "data": {
      "text/html": [
       "<div>\n",
       "<style scoped>\n",
       "    .dataframe tbody tr th:only-of-type {\n",
       "        vertical-align: middle;\n",
       "    }\n",
       "\n",
       "    .dataframe tbody tr th {\n",
       "        vertical-align: top;\n",
       "    }\n",
       "\n",
       "    .dataframe thead th {\n",
       "        text-align: right;\n",
       "    }\n",
       "</style>\n",
       "<table border=\"1\" class=\"dataframe\">\n",
       "  <thead>\n",
       "    <tr style=\"text-align: right;\">\n",
       "      <th></th>\n",
       "      <th>UID</th>\n",
       "      <th>VBAT</th>\n",
       "      <th>DID</th>\n",
       "      <th>YEAR</th>\n",
       "      <th>MON</th>\n",
       "      <th>DAY</th>\n",
       "      <th>HOUR</th>\n",
       "      <th>MIN</th>\n",
       "      <th>SEC</th>\n",
       "      <th>X</th>\n",
       "      <th>Y</th>\n",
       "      <th>Z</th>\n",
       "      <th>T</th>\n",
       "    </tr>\n",
       "  </thead>\n",
       "  <tbody>\n",
       "    <tr>\n",
       "      <th>594</th>\n",
       "      <td>1000101017</td>\n",
       "      <td>3532</td>\n",
       "      <td>66</td>\n",
       "      <td>19</td>\n",
       "      <td>9</td>\n",
       "      <td>30</td>\n",
       "      <td>14</td>\n",
       "      <td>6</td>\n",
       "      <td>66</td>\n",
       "      <td>-0.142822</td>\n",
       "      <td>-1.763306</td>\n",
       "      <td>88.231201</td>\n",
       "      <td>19.0</td>\n",
       "    </tr>\n",
       "    <tr>\n",
       "      <th>604</th>\n",
       "      <td>1000101017</td>\n",
       "      <td>3535</td>\n",
       "      <td>67</td>\n",
       "      <td>19</td>\n",
       "      <td>9</td>\n",
       "      <td>30</td>\n",
       "      <td>14</td>\n",
       "      <td>7</td>\n",
       "      <td>67</td>\n",
       "      <td>-0.131836</td>\n",
       "      <td>-1.774292</td>\n",
       "      <td>88.220215</td>\n",
       "      <td>19.0</td>\n",
       "    </tr>\n",
       "    <tr>\n",
       "      <th>614</th>\n",
       "      <td>1000101017</td>\n",
       "      <td>3536</td>\n",
       "      <td>68</td>\n",
       "      <td>19</td>\n",
       "      <td>9</td>\n",
       "      <td>30</td>\n",
       "      <td>14</td>\n",
       "      <td>8</td>\n",
       "      <td>68</td>\n",
       "      <td>-0.131836</td>\n",
       "      <td>-1.774292</td>\n",
       "      <td>88.220215</td>\n",
       "      <td>19.0</td>\n",
       "    </tr>\n",
       "    <tr>\n",
       "      <th>624</th>\n",
       "      <td>1000101017</td>\n",
       "      <td>3536</td>\n",
       "      <td>69</td>\n",
       "      <td>19</td>\n",
       "      <td>9</td>\n",
       "      <td>30</td>\n",
       "      <td>14</td>\n",
       "      <td>9</td>\n",
       "      <td>69</td>\n",
       "      <td>-0.131836</td>\n",
       "      <td>-1.768799</td>\n",
       "      <td>88.220215</td>\n",
       "      <td>19.0</td>\n",
       "    </tr>\n",
       "    <tr>\n",
       "      <th>634</th>\n",
       "      <td>1000101017</td>\n",
       "      <td>3536</td>\n",
       "      <td>70</td>\n",
       "      <td>19</td>\n",
       "      <td>9</td>\n",
       "      <td>30</td>\n",
       "      <td>14</td>\n",
       "      <td>10</td>\n",
       "      <td>70</td>\n",
       "      <td>-0.137329</td>\n",
       "      <td>-1.774292</td>\n",
       "      <td>88.220215</td>\n",
       "      <td>19.0</td>\n",
       "    </tr>\n",
       "  </tbody>\n",
       "</table>\n",
       "</div>"
      ],
      "text/plain": [
       "            UID  VBAT  DID  YEAR  MON  DAY  HOUR  MIN  SEC         X  \\\n",
       "594  1000101017  3532   66    19    9   30    14    6   66 -0.142822   \n",
       "604  1000101017  3535   67    19    9   30    14    7   67 -0.131836   \n",
       "614  1000101017  3536   68    19    9   30    14    8   68 -0.131836   \n",
       "624  1000101017  3536   69    19    9   30    14    9   69 -0.131836   \n",
       "634  1000101017  3536   70    19    9   30    14   10   70 -0.137329   \n",
       "\n",
       "            Y          Z     T  \n",
       "594 -1.763306  88.231201  19.0  \n",
       "604 -1.774292  88.220215  19.0  \n",
       "614 -1.774292  88.220215  19.0  \n",
       "624 -1.768799  88.220215  19.0  \n",
       "634 -1.774292  88.220215  19.0  "
      ]
     },
     "execution_count": 9,
     "metadata": {},
     "output_type": "execute_result"
    }
   ],
   "source": [
    "df2 = df2.drop(['No'], axis=1)\n",
    "df17 = df2.loc[df2['UID'] == 1000101017]\n",
    "df18 = df2.loc[df2['UID'] == 1000101018]\n",
    "df19 = df2.loc[df2['UID'] == 1000101019]\n",
    "df20 = df2.loc[df2['UID'] == 1000101020]\n",
    "df21 = df2.loc[df2['UID'] == 1000101021]\n",
    "df22 = df2.loc[df2['UID'] == 1000101022]\n",
    "df23 = df2.loc[df2['UID'] == 1000101023]\n",
    "df24 = df2.loc[df2['UID'] == 1000101024]\n",
    "df25 = df2.loc[df2['UID'] == 1000101025]\n",
    "df26 = df2.loc[df2['UID'] == 1000101026]\n",
    "#ax.quiver(0, 0, 0, df18['X'].values, df18['Y'].values, df18['Z'].values, length=0.1, normalize=True)\n",
    "\n",
    "df17.head()"
   ]
  },
  {
   "cell_type": "code",
   "execution_count": 10,
   "metadata": {},
   "outputs": [
    {
     "name": "stderr",
     "output_type": "stream",
     "text": [
      "C:\\Users\\mehdi\\Anaconda3\\lib\\site-packages\\ipykernel_launcher.py:13: RuntimeWarning: invalid value encountered in arccos\n",
      "  del sys.path[0]\n"
     ]
    }
   ],
   "source": [
    "df17_table = pd.pivot_table(df17, ['X', 'Y', 'Z'], 'SEC')\n",
    "df17_angle = df17_table.values\n",
    "\n",
    "df17_drop = df17.drop(df17.index[0])\n",
    "Time_17 = list(df17_drop['SEC'])\n",
    "\n",
    "angleArray_17,index = [],[]\n",
    "for i,j in enumerate(df17_angle[0:len(df17_angle)-1]):\n",
    "    a = df17_angle[i]\n",
    "    b = df17_angle[i+1]\n",
    "    A = np.linalg.norm(a)\n",
    "    B = np.linalg.norm(b)\n",
    "    ans = np.arccos((np.dot(a,b))/(A*B))\n",
    "    angleArray_17.append(ans)\n",
    "    index.append(i)\n",
    "\n",
    "A17_dic = {'Time_17':Time_17, 'angleArray_17': angleArray_17}\n",
    "A17 = DataFrame(A17_dic)"
   ]
  },
  {
   "cell_type": "code",
   "execution_count": 11,
   "metadata": {},
   "outputs": [
    {
     "name": "stderr",
     "output_type": "stream",
     "text": [
      "C:\\Users\\mehdi\\Anaconda3\\lib\\site-packages\\ipykernel_launcher.py:10: RuntimeWarning: invalid value encountered in arccos\n",
      "  # Remove the CWD from sys.path while we load stuff.\n"
     ]
    }
   ],
   "source": [
    "df18_table = pd.pivot_table(df18, ['X', 'Y', 'Z'], df18.index)\n",
    "df18_angle = df18_table.values\n",
    "\n",
    "angleArray_18,index = [],[]\n",
    "for i,j in enumerate(df18_angle[0:len(df18_angle)-1]):\n",
    "    a = df18_angle[i]\n",
    "    b = df18_angle[i+1]\n",
    "    A = np.linalg.norm(a)\n",
    "    B = np.linalg.norm(b)\n",
    "    ans = np.arccos((np.dot(a,b))/(A*B))\n",
    "    angleArray_18.append(ans)\n",
    "    index.append(i)\n",
    "    \n",
    "df18_drop = df18.drop(df18.index[0])\n",
    "Time_18 = list(df18_drop['SEC'])    \n",
    "\n",
    "A18_dic = {'Time_18': Time_18, 'angleArray_18': angleArray_18}\n",
    "A18 = DataFrame(A18_dic)\n"
   ]
  },
  {
   "cell_type": "code",
   "execution_count": 12,
   "metadata": {},
   "outputs": [],
   "source": [
    "df19_table = pd.pivot_table(df19, ['X', 'Y', 'Z'], df19.index)\n",
    "df19_angle = df19_table.values\n",
    "\n",
    "angleArray_19,index = [],[]\n",
    "for i,j in enumerate(df19_angle[0:len(df19_angle)-1]):\n",
    "    a = df19_angle[i]\n",
    "    b = df19_angle[i+1]\n",
    "    A = np.linalg.norm(a)\n",
    "    B = np.linalg.norm(b)\n",
    "    ans = np.arccos((np.dot(a,b))/(A*B))\n",
    "    angleArray_19.append(ans)\n",
    "    index.append(i)\n",
    "    \n",
    "df19_drop = df19.drop(df19.index[0])\n",
    "Time_19 = list(df19_drop['SEC'])    \n",
    "\n",
    "A19_dic = {'Time_19': Time_19, 'angleArray_19': angleArray_19}\n",
    "A19 = DataFrame(A19_dic)\n"
   ]
  },
  {
   "cell_type": "code",
   "execution_count": 13,
   "metadata": {
    "scrolled": true
   },
   "outputs": [],
   "source": [
    "df20_table = pd.pivot_table(df20, ['X', 'Y', 'Z'], df20.index)\n",
    "df20_angle = df20_table.values\n",
    "\n",
    "angleArray_20,index = [],[]\n",
    "for i,j in enumerate(df20_angle[0:len(df20_angle)-1]):\n",
    "    a = df20_angle[i]\n",
    "    b = df20_angle[i+1]\n",
    "    A = np.linalg.norm(a)\n",
    "    B = np.linalg.norm(b)\n",
    "    ans = np.arccos((np.dot(a,b))/(A*B))\n",
    "    angleArray_20.append(ans)\n",
    "    index.append(i)\n",
    "    \n",
    "df20_drop = df20.drop(df20.index[0])\n",
    "Time_20 = list(df20_drop['SEC'])    \n",
    "\n",
    "A20_dic = {'Time_20': Time_20, 'angleArray_20': angleArray_20}\n",
    "A20 = DataFrame(A20_dic)\n",
    "\n"
   ]
  },
  {
   "cell_type": "code",
   "execution_count": 14,
   "metadata": {},
   "outputs": [],
   "source": [
    "df21_table = pd.pivot_table(df21, ['X', 'Y', 'Z'], df21.index)\n",
    "df21_angle = df21_table.values\n",
    "\n",
    "df21_drop = df21.drop(df21.index[0])\n",
    "Time_21 = list(df21_drop['SEC'])\n",
    "\n",
    "angleArray_21,index = [],[]\n",
    "for i,j in enumerate(df18_angle[0:len(df21_angle)-1]):\n",
    "    a = df21_angle[i]\n",
    "    b = df21_angle[i+1]\n",
    "    A = np.linalg.norm(a)\n",
    "    B = np.linalg.norm(b)\n",
    "    ans = np.arccos((np.dot(a,b))/(A*B))\n",
    "    angleArray_21.append(ans)\n",
    "    index.append(i)\n",
    "    \n",
    "A21_dic = {'Time_21': Time_21,'angleArray_21': angleArray_21}\n",
    "A21 = DataFrame(A21_dic)\n",
    "\n"
   ]
  },
  {
   "cell_type": "code",
   "execution_count": 15,
   "metadata": {},
   "outputs": [],
   "source": [
    "df22_table = pd.pivot_table(df22, ['X', 'Y', 'Z'], df22.index)\n",
    "df22_angle = df22_table.values\n",
    "\n",
    "df22_drop = df22.drop(df22.index[0])\n",
    "Time_22 = list(df22_drop['SEC'])\n",
    "\n",
    "angleArray_22,index = [],[]\n",
    "for i,j in enumerate(df22_angle[0:len(df22_angle)-1]):\n",
    "    a = df22_angle[i]\n",
    "    b = df22_angle[i+1]\n",
    "    A = np.linalg.norm(a)\n",
    "    B = np.linalg.norm(b)\n",
    "    ans = np.arccos((np.dot(a,b))/(A*B))\n",
    "    angleArray_22.append(ans)\n",
    "    index.append(i)\n",
    "    \n",
    "A22_dic = {'Time_22': Time_22, 'angleArray_22': angleArray_22}\n",
    "A22 = DataFrame(A22_dic)\n",
    "\n"
   ]
  },
  {
   "cell_type": "code",
   "execution_count": 16,
   "metadata": {},
   "outputs": [],
   "source": [
    "df23_table = pd.pivot_table(df23, ['X', 'Y', 'Z'], df23.index)\n",
    "df23_angle = df23_table.values\n",
    "\n",
    "df23_drop = df23.drop(df23.index[0])\n",
    "Time_23 = list(df23_drop['SEC'])\n",
    "\n",
    "angleArray_23,index = [],[]\n",
    "for i,j in enumerate(df23_angle[0:len(df23_angle)-1]):\n",
    "    a = df23_angle[i]\n",
    "    b = df23_angle[i+1]\n",
    "    A = np.linalg.norm(a)\n",
    "    B = np.linalg.norm(b)\n",
    "    ans = np.arccos((np.dot(a,b))/(A*B))\n",
    "    angleArray_23.append(ans)\n",
    "    index.append(i)\n",
    "    \n",
    "A23_dic = {'Time_23': Time_23, 'angleArray_23': angleArray_23}\n",
    "A23 = DataFrame(A23_dic)\n"
   ]
  },
  {
   "cell_type": "code",
   "execution_count": 17,
   "metadata": {},
   "outputs": [],
   "source": [
    "df24_table = pd.pivot_table(df24, ['X', 'Y', 'Z'], df24.index)\n",
    "df24_angle = df24_table.values\n",
    "\n",
    "df24_drop = df24.drop(df24.index[0])\n",
    "Time_24 = list(df24_drop['SEC'])\n",
    "\n",
    "angleArray_24,index = [],[]\n",
    "for i,j in enumerate(df24_angle[0:len(df24_angle)-1]):\n",
    "    a = df24_angle[i]\n",
    "    b = df24_angle[i+1]\n",
    "    A = np.linalg.norm(a)\n",
    "    B = np.linalg.norm(b)\n",
    "    ans = np.arccos((np.dot(a,b))/(A*B))\n",
    "    angleArray_24.append(ans)\n",
    "    index.append(i)\n",
    "    \n",
    "A24_dic = {'Time_24': Time_24, 'angleArray_24': angleArray_24}\n",
    "A24 = DataFrame(A24_dic)\n"
   ]
  },
  {
   "cell_type": "code",
   "execution_count": 18,
   "metadata": {},
   "outputs": [],
   "source": [
    "df25_table = pd.pivot_table(df25, ['X', 'Y', 'Z'], df25.index)\n",
    "df25_angle = df25_table.values\n",
    "\n",
    "df25_drop = df25.drop(df25.index[0])\n",
    "Time_25 = list(df25_drop['SEC'])\n",
    "\n",
    "angleArray_25,index = [],[]\n",
    "for i,j in enumerate(df25_angle[0:len(df25_angle)-1]):\n",
    "    a = df25_angle[i]\n",
    "    b = df25_angle[i+1]\n",
    "    A = np.linalg.norm(a)\n",
    "    B = np.linalg.norm(b)\n",
    "    ans = np.arccos((np.dot(a,b))/(A*B))\n",
    "    angleArray_25.append(ans)\n",
    "    index.append(i)\n",
    "    \n",
    "A25_dic = {'Time_25': Time_25, 'angleArray_25': angleArray_25}\n",
    "A25 = DataFrame(A25_dic)\n",
    "\n"
   ]
  },
  {
   "cell_type": "code",
   "execution_count": 19,
   "metadata": {},
   "outputs": [],
   "source": [
    "df26_table = pd.pivot_table(df26, ['X', 'Y', 'Z'], df26.index)\n",
    "df26_angle = df26_table.values\n",
    "\n",
    "df26_drop = df26.drop(df26.index[0])\n",
    "Time_26 = list(df26_drop['SEC'])\n",
    "\n",
    "angleArray_26,index = [],[]\n",
    "for i,j in enumerate(df26_angle[0:len(df26_angle)-1]):\n",
    "    a = df26_angle[i]\n",
    "    b = df26_angle[i+1]\n",
    "    A = np.linalg.norm(a)\n",
    "    B = np.linalg.norm(b)\n",
    "    ans = np.arccos((np.dot(a,b))/(A*B))\n",
    "    angleArray_26.append(ans)\n",
    "    index.append(i)\n",
    "    \n",
    "A26_dic = {'Time_26': Time_26, 'angleArray_26': angleArray_26}\n",
    "A26 = DataFrame(A26_dic)\n"
   ]
  },
  {
   "cell_type": "code",
   "execution_count": null,
   "metadata": {},
   "outputs": [],
   "source": []
  },
  {
   "cell_type": "code",
   "execution_count": 27,
   "metadata": {
    "scrolled": true
   },
   "outputs": [
    {
     "data": {
      "text/plain": [
       "<BarContainer object of 219 artists>"
      ]
     },
     "execution_count": 27,
     "metadata": {},
     "output_type": "execute_result"
    },
    {
     "data": {
      "image/png": "[encoded data removed]",
      "text/plain": [
       "<Figure size 1440x720 with 1 Axes>"
      ]
     },
     "metadata": {},
     "output_type": "display_data"
    }
   ],
   "source": [
    "fig, ax1 = plt.subplots(figsize=(20,10))\n",
    "plt.ylim(0, 0.04)\n",
    "plt.xlim(85,240)\n",
    "plt.xlabel('Time (mins)')\n",
    "plt.ylabel('Angle in Rads')\n",
    "ax1.bar(A17['Time_17'], A17['angleArray_17'], color='olive')\n",
    "ax1.bar(A18['Time_18'], A18['angleArray_18'], color='brown')\n",
    "ax1.bar(A19['Time_19'], A19['angleArray_19'], color='red')\n",
    "ax1.bar(A20['Time_20'], A20['angleArray_20'], color='yellow')\n",
    "ax1.bar(A21['Time_21'], A21['angleArray_21'], color='green')\n",
    "ax1.bar(A22['Time_22'], A22['angleArray_22'], color='pink')\n",
    "ax1.bar(A23['Time_23'], A23['angleArray_23'], color='orange')\n",
    "ax1.bar(A24['Time_24'], A24['angleArray_24'], color='grey')\n",
    "ax1.bar(A25['Time_25'], A25['angleArray_25'], color='purple')\n",
    "ax1.bar(A26['Time_26'], A26['angleArray_26'], color='blue')\n"
   ]
  },
  {
   "cell_type": "code",
   "execution_count": 39,
   "metadata": {},
   "outputs": [
    {
     "data": {
      "text/plain": [
       "<BarContainer object of 219 artists>"
      ]
     },
     "execution_count": 39,
     "metadata": {},
     "output_type": "execute_result"
    },
    {
     "data": {
      "image/png": "[encoded data removed]",
      "text/plain": [
       "<Figure size 1440x720 with 1 Axes>"
      ]
     },
     "metadata": {},
     "output_type": "display_data"
    }
   ],
   "source": [
    "fig, ax1 = plt.subplots(figsize=(20,10))\n",
    "plt.ylim(0, 0.04)\n",
    "plt.xlim(85,150)\n",
    "plt.xlabel('Time (mins)')\n",
    "plt.ylabel('Angle in Rads')\n",
    "ax1.bar(A17['Time_17'], A17['angleArray_17'], color='olive')\n",
    "ax1.bar(A18['Time_18'], A18['angleArray_18'], color='brown')\n",
    "ax1.bar(A19['Time_19'], A19['angleArray_19'], color='red')\n",
    "ax1.bar(A20['Time_20'], A20['angleArray_20'], color='yellow')\n",
    "ax1.bar(A21['Time_21'], A21['angleArray_21'], color='green')\n",
    "ax1.bar(A22['Time_22'], A22['angleArray_22'], color='pink')\n",
    "ax1.bar(A23['Time_23'], A23['angleArray_23'], color='orange')\n",
    "ax1.bar(A24['Time_24'], A24['angleArray_24'], color='grey')\n",
    "ax1.bar(A25['Time_25'], A25['angleArray_25'], color='purple')\n",
    "ax1.bar(A26['Time_26'], A26['angleArray_26'], color='blue')\n",
    "\n"
   ]
  },
  {
   "cell_type": "code",
   "execution_count": 104,
   "metadata": {},
   "outputs": [
    {
     "data": {
      "text/plain": [
       "<BarContainer object of 5 artists>"
      ]
     },
     "execution_count": 104,
     "metadata": {},
     "output_type": "execute_result"
    },
    {
     "data": {
      "image/png": "[encoded data removed]",
      "text/plain": [
       "<Figure size 1440x720 with 1 Axes>"
      ]
     },
     "metadata": {},
     "output_type": "display_data"
    }
   ],
   "source": [
    "S17 = A17\n",
    "vals = S17[ S17['angleArray_17'] < 0.001 ].index\n",
    "# Delete these row indexes from dataFrame\n",
    "S17.drop(vals , inplace=True)\n",
    "L17 = S17.reset_index(drop=True)\n",
    "L17['index1'] = L17.index\n",
    "\n",
    "vals2 = L17[ L17['index1'] >= 23 ].index\n",
    "L17.drop(vals2 , inplace=True)\n",
    "vals2 = L17[ L17['index1'] <= 1 ].index\n",
    "L17.drop(vals2 , inplace=True)\n",
    "S17top = L17.iloc[0:5]\n",
    "\n",
    "S17bot = L17.iloc[16:21]\n",
    "\n",
    "sTop = S17top\n",
    "sBot = S17bot\n",
    "\n",
    "\n",
    "sTop = sTop.reset_index(drop=True)\n",
    "sBot = sBot.reset_index(drop=True)\n",
    "sTop = sTop.drop(columns=['index1'])\n",
    "sBot = sBot.drop(columns=['index1'])\n",
    "sTop['index1'] = sTop.index\n",
    "sBot['index1'] = sBot.index\n",
    "\n",
    "\n",
    "fig, ax1 = plt.subplots(figsize=(20,10))\n",
    "plt.ylim(0.006, 0.007)\n",
    "plt.xlim(0,5)\n",
    "plt.xlabel('Time (mins)')\n",
    "plt.ylabel('Angle in Rads')\n",
    "ax1.bar(sTop['index1'], sTop['angleArray_17'], color='olive')\n",
    "ax1.bar(sBot['index1'], sBot['angleArray_17'], color='red')\n",
    "\n",
    "\n",
    "\n",
    "\n",
    "\n"
   ]
  },
  {
   "cell_type": "code",
   "execution_count": null,
   "metadata": {},
   "outputs": [],
   "source": []
  }
 ],
 "metadata": {
  "kernelspec": {
   "display_name": "Python 3",
   "language": "python",
   "name": "python3"
  },
  "language_info": {
   "codemirror_mode": {
    "name": "ipython",
    "version": 3
   },
   "file_extension": ".py",
   "mimetype": "text/x-python",
   "name": "python",
   "nbconvert_exporter": "python",
   "pygments_lexer": "ipython3",
   "version": "3.6.5"
  }
 },
 "nbformat": 4,
 "nbformat_minor": 2
}
